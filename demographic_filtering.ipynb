{
 "cells": [
  {
   "cell_type": "code",
   "execution_count": 2,
   "metadata": {},
   "outputs": [
    {
     "ename": "FileNotFoundError",
     "evalue": "[Errno 2] No such file or directory: 'c-142-main/movies.csv'",
     "output_type": "error",
     "traceback": [
      "\u001b[1;31m---------------------------------------------------------------------------\u001b[0m",
      "\u001b[1;31mFileNotFoundError\u001b[0m                         Traceback (most recent call last)",
      "\u001b[1;32mc:\\Users\\sansk\\OneDrive\\Desktop\\New folder (11)\\c-142-main\\c-142-main\\merge_csv.ipynb Cell 1\u001b[0m line \u001b[0;36m3\n\u001b[0;32m      <a href='vscode-notebook-cell:/c%3A/Users/sansk/OneDrive/Desktop/New%20folder%20%2811%29/c-142-main/c-142-main/merge_csv.ipynb#W0sZmlsZQ%3D%3D?line=0'>1</a>\u001b[0m \u001b[39mimport\u001b[39;00m \u001b[39mcsv\u001b[39;00m\n\u001b[1;32m----> <a href='vscode-notebook-cell:/c%3A/Users/sansk/OneDrive/Desktop/New%20folder%20%2811%29/c-142-main/c-142-main/merge_csv.ipynb#W0sZmlsZQ%3D%3D?line=2'>3</a>\u001b[0m \u001b[39mwith\u001b[39;00m \u001b[39mopen\u001b[39;49m(\u001b[39m'\u001b[39;49m\u001b[39mc-142-main/movies.csv\u001b[39;49m\u001b[39m'\u001b[39;49m) \u001b[39mas\u001b[39;00m f:\n\u001b[0;32m      <a href='vscode-notebook-cell:/c%3A/Users/sansk/OneDrive/Desktop/New%20folder%20%2811%29/c-142-main/c-142-main/merge_csv.ipynb#W0sZmlsZQ%3D%3D?line=3'>4</a>\u001b[0m     reader \u001b[39m=\u001b[39m csv\u001b[39m.\u001b[39mreader(f)\n\u001b[0;32m      <a href='vscode-notebook-cell:/c%3A/Users/sansk/OneDrive/Desktop/New%20folder%20%2811%29/c-142-main/c-142-main/merge_csv.ipynb#W0sZmlsZQ%3D%3D?line=4'>5</a>\u001b[0m     data \u001b[39m=\u001b[39m \u001b[39mlist\u001b[39m(reader)\n",
      "File \u001b[1;32m~\\AppData\\Roaming\\Python\\Python38\\site-packages\\IPython\\core\\interactiveshell.py:284\u001b[0m, in \u001b[0;36m_modified_open\u001b[1;34m(file, *args, **kwargs)\u001b[0m\n\u001b[0;32m    277\u001b[0m \u001b[39mif\u001b[39;00m file \u001b[39min\u001b[39;00m {\u001b[39m0\u001b[39m, \u001b[39m1\u001b[39m, \u001b[39m2\u001b[39m}:\n\u001b[0;32m    278\u001b[0m     \u001b[39mraise\u001b[39;00m \u001b[39mValueError\u001b[39;00m(\n\u001b[0;32m    279\u001b[0m         \u001b[39mf\u001b[39m\u001b[39m\"\u001b[39m\u001b[39mIPython won\u001b[39m\u001b[39m'\u001b[39m\u001b[39mt let you open fd=\u001b[39m\u001b[39m{\u001b[39;00mfile\u001b[39m}\u001b[39;00m\u001b[39m by default \u001b[39m\u001b[39m\"\u001b[39m\n\u001b[0;32m    280\u001b[0m         \u001b[39m\"\u001b[39m\u001b[39mas it is likely to crash IPython. If you know what you are doing, \u001b[39m\u001b[39m\"\u001b[39m\n\u001b[0;32m    281\u001b[0m         \u001b[39m\"\u001b[39m\u001b[39myou can use builtins\u001b[39m\u001b[39m'\u001b[39m\u001b[39m open.\u001b[39m\u001b[39m\"\u001b[39m\n\u001b[0;32m    282\u001b[0m     )\n\u001b[1;32m--> 284\u001b[0m \u001b[39mreturn\u001b[39;00m io_open(file, \u001b[39m*\u001b[39;49margs, \u001b[39m*\u001b[39;49m\u001b[39m*\u001b[39;49mkwargs)\n",
      "\u001b[1;31mFileNotFoundError\u001b[0m: [Errno 2] No such file or directory: 'c-142-main/movies.csv'"
     ]
    }
   ],
   "source": [
    "import csv\n",
    "\n",
    "with open('PRO-C142-FLASK-MOCKUP---2-main/articles.csv') as f:\n",
    "    reader = csv.reader(f)\n",
    "    data = list(reader)\n",
    "    all_articles = data[1:]\n",
    "    headers = data[0]\n",
    "\n",
    "headers.append(\"poster_link\")\n",
    "\n",
    "with open(\"final.csv\", \"a+\") as f:\n",
    "    csvwriter = csv.writer(f)\n",
    "    csvwriter.writerow(headers)\n",
    "\n",
    "with open(\"movie_links.csv\") as f:\n",
    "    reader = csv.reader(f)\n",
    "    data = list(reader)\n",
    "    all_movie_links = data[1:]\n",
    "\n",
    "for movie_item in all_movies:\n",
    "    poster_found = any(movie_item[8] in movie_link_items for movie_link_items in all_movie_links)\n",
    "    if poster_found:\n",
    "        for movie_link_item in all_movie_links:\n",
    "            if movie_item[8] == movie_link_item[0]:\n",
    "                movie_item.append(movie_link_item[1])\n",
    "                if len(movie_item) == 28:\n",
    "                    with open(\"final.csv\", \"a+\") as f:\n",
    "                        csvwriter = csv.writer(f)\n",
    "                        csvwriter.writerow(movie_item)"
   ]
  }
 ],
 "metadata": {
  "kernelspec": {
   "display_name": "Python 3",
   "language": "python",
   "name": "python3"
  },
  "language_info": {
   "codemirror_mode": {
    "name": "ipython",
    "version": 3
   },
   "file_extension": ".py",
   "mimetype": "text/x-python",
   "name": "python",
   "nbconvert_exporter": "python",
   "pygments_lexer": "ipython3",
   "version": "3.8.6"
  }
 },
 "nbformat": 4,
 "nbformat_minor": 2
}
